{
 "cells": [
  {
   "cell_type": "code",
   "execution_count": 1,
   "id": "cc3fa852-76dc-4d9d-8fb5-f311392a3386",
   "metadata": {},
   "outputs": [],
   "source": [
    "with open(\"input.txt\") as f:\n",
    "    lines = [\n",
    "        list(line.strip()) for line in f.readlines()\n",
    "    ]"
   ]
  },
  {
   "cell_type": "markdown",
   "id": "e5b8de16-faa7-4e99-80e7-2eee1c87b5e2",
   "metadata": {},
   "source": [
    "# part 1"
   ]
  },
  {
   "cell_type": "code",
   "execution_count": 2,
   "id": "e4086e44-7810-40b2-b61b-fa28a46d8684",
   "metadata": {},
   "outputs": [
    {
     "name": "stdout",
     "output_type": "stream",
     "text": [
      "part 1:  4647\n"
     ]
    }
   ],
   "source": [
    "def is_guard(row, col):\n",
    "    return lines[row][col] == \"#\"\n",
    "\n",
    "def next_pos(row, col):\n",
    "    c = lines[row][col]\n",
    "    if c == \"^\":\n",
    "        return row - 1, col\n",
    "    elif c == \">\":\n",
    "        return row, col + 1\n",
    "    elif c == \"v\":\n",
    "        return row + 1, col\n",
    "    elif c == \"<\":\n",
    "        return row, col - 1\n",
    "\n",
    "    raise Exception(\"invalid char: \" + c)\n",
    "\n",
    "def rotate_90(row, col):\n",
    "    c = lines[row][col]\n",
    "    if c == \"^\":\n",
    "        return \">\"\n",
    "    elif c == \">\":\n",
    "        return \"v\"\n",
    "    elif c == \"v\":\n",
    "        return \"<\"\n",
    "    elif c == \"<\":\n",
    "        return \"^\"\n",
    "    \n",
    "    raise Exception(\"invalid char: \" + c)\n",
    "\n",
    "def is_out_of_bounds(row, col):\n",
    "    return row < 0 or col < 0 or row >= len(lines) or col >= len(lines[0])\n",
    "\n",
    "def find_start():\n",
    "    for row, line in enumerate(lines):\n",
    "        for col, c in enumerate(line):\n",
    "            if c in set([\"^\", \">\", \"<\", \"v\"]):\n",
    "                return row, col\n",
    "\n",
    "pos = find_start()\n",
    "visited = set()\n",
    "\n",
    "while not is_out_of_bounds(pos[0], pos[1]):\n",
    "    visited.add(pos)\n",
    "    n = next_pos(pos[0], pos[1])\n",
    "    if is_out_of_bounds(n[0], n[1]):\n",
    "        break\n",
    "    elif is_guard(n[0], n[1]):\n",
    "        lines[pos[0]][pos[1]] = rotate_90(pos[0], pos[1])\n",
    "    else:\n",
    "        lines[n[0]][n[1]] = lines[pos[0]][pos[1]]\n",
    "        lines[pos[0]][pos[1]] = \".\"\n",
    "        pos = n\n",
    "\n",
    "print(\"part 1: \", len(visited))"
   ]
  }
 ],
 "metadata": {
  "kernelspec": {
   "display_name": "Python 3 (ipykernel)",
   "language": "python",
   "name": "python3"
  },
  "language_info": {
   "codemirror_mode": {
    "name": "ipython",
    "version": 3
   },
   "file_extension": ".py",
   "mimetype": "text/x-python",
   "name": "python",
   "nbconvert_exporter": "python",
   "pygments_lexer": "ipython3",
   "version": "3.13.0"
  }
 },
 "nbformat": 4,
 "nbformat_minor": 5
}
