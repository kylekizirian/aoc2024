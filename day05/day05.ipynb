{
 "cells": [
  {
   "cell_type": "code",
   "execution_count": 1,
   "id": "0af2cbca-cf6b-455f-a670-753f91e8ff69",
   "metadata": {},
   "outputs": [],
   "source": [
    "from collections import defaultdict\n",
    "\n",
    "rules = defaultdict(set)\n",
    "pages_updates = []\n",
    "\n",
    "with open(\"input.txt\") as f:\n",
    "    in_rules = True\n",
    "    for line in f.readlines():\n",
    "        if line.strip() == \"\":\n",
    "            in_rules = False\n",
    "            continue\n",
    "\n",
    "        if in_rules:\n",
    "            l, r = line.split(\"|\")\n",
    "            rules[int(l)].add(int(r))\n",
    "        else:\n",
    "            pages_updates.append(list(map(int, line.split(\",\"))))"
   ]
  },
  {
   "cell_type": "markdown",
   "id": "84c2c199-2a62-4750-811c-21e49d86d16d",
   "metadata": {},
   "source": [
    "# part 1"
   ]
  },
  {
   "cell_type": "code",
   "execution_count": 2,
   "id": "48aa458d-3bcb-4195-912e-851d1494e4e8",
   "metadata": {},
   "outputs": [
    {
     "name": "stdout",
     "output_type": "stream",
     "text": [
      "part 1:  6612\n"
     ]
    }
   ],
   "source": [
    "total = 0\n",
    "\n",
    "for updates in pages_updates:\n",
    "    seen = set() # keep track of pages seen so far\n",
    "    for page in updates:\n",
    "        # if any pages seen so far break the rules, then break\n",
    "        if rules[page] & seen:\n",
    "            break\n",
    "\n",
    "        seen.add(page)\n",
    "    else:\n",
    "        total += updates[len(updates) // 2]\n",
    "\n",
    "print(\"part 1: \", total)"
   ]
  }
 ],
 "metadata": {
  "kernelspec": {
   "display_name": "Python 3 (ipykernel)",
   "language": "python",
   "name": "python3"
  },
  "language_info": {
   "codemirror_mode": {
    "name": "ipython",
    "version": 3
   },
   "file_extension": ".py",
   "mimetype": "text/x-python",
   "name": "python",
   "nbconvert_exporter": "python",
   "pygments_lexer": "ipython3",
   "version": "3.13.0"
  }
 },
 "nbformat": 4,
 "nbformat_minor": 5
}
