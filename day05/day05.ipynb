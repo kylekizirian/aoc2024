{
 "cells": [
  {
   "cell_type": "code",
   "execution_count": 1,
   "id": "0af2cbca-cf6b-455f-a670-753f91e8ff69",
   "metadata": {},
   "outputs": [],
   "source": [
    "from collections import defaultdict\n",
    "\n",
    "rules = defaultdict(set)\n",
    "pages_updates = []\n",
    "\n",
    "with open(\"input.txt\") as f:\n",
    "    in_rules = True\n",
    "    for line in f.readlines():\n",
    "        if line.strip() == \"\":\n",
    "            in_rules = False\n",
    "            continue\n",
    "\n",
    "        if in_rules:\n",
    "            l, r = line.split(\"|\")\n",
    "            rules[int(l)].add(int(r))\n",
    "        else:\n",
    "            pages_updates.append(list(map(int, line.split(\",\"))))"
   ]
  },
  {
   "cell_type": "markdown",
   "id": "84c2c199-2a62-4750-811c-21e49d86d16d",
   "metadata": {},
   "source": [
    "# part 1"
   ]
  },
  {
   "cell_type": "code",
   "execution_count": 2,
   "id": "48aa458d-3bcb-4195-912e-851d1494e4e8",
   "metadata": {},
   "outputs": [
    {
     "name": "stdout",
     "output_type": "stream",
     "text": [
      "part 1:  6612\n"
     ]
    }
   ],
   "source": [
    "total = 0\n",
    "\n",
    "for updates in pages_updates:\n",
    "    seen = set() # keep track of pages seen so far\n",
    "    for page in updates:\n",
    "        # if any pages seen so far break the rules, then break\n",
    "        if rules[page] & seen:\n",
    "            break\n",
    "\n",
    "        seen.add(page)\n",
    "    else:\n",
    "        total += updates[len(updates) // 2]\n",
    "\n",
    "print(\"part 1: \", total)"
   ]
  },
  {
   "cell_type": "markdown",
   "id": "2c824b50-5978-4837-85cc-371e5a3df469",
   "metadata": {},
   "source": [
    "# part 2"
   ]
  },
  {
   "cell_type": "code",
   "execution_count": 3,
   "id": "3547a386-eac1-4674-9529-7b388848aad0",
   "metadata": {},
   "outputs": [
    {
     "name": "stdout",
     "output_type": "stream",
     "text": [
      "part 2:  4944\n"
     ]
    }
   ],
   "source": [
    "def violates(updates):\n",
    "    seen = set() # keep track of pages seen so far\n",
    "    for page in updates:\n",
    "        # if any pages seen so far break the rules, then break\n",
    "        if rules[page] & seen:\n",
    "            return True\n",
    "\n",
    "        seen.add(page)\n",
    "\n",
    "    return False\n",
    "\n",
    "\n",
    "def in_any_rules(num, other_pages):\n",
    "    for other_page in other_pages:\n",
    "        if num in rules[other_page]:\n",
    "            return True\n",
    "\n",
    "    return False\n",
    "\n",
    "\n",
    "def order(updates):\n",
    "    ordered = []\n",
    "    while updates:\n",
    "        for i, page in enumerate(updates):\n",
    "            if not in_any_rules(page, updates[:i] + updates[i+1:]):\n",
    "                ordered.append(page)\n",
    "                updates = updates[:i] + updates[i+1:]\n",
    "                break\n",
    "\n",
    "    return ordered\n",
    "\n",
    "total = 0\n",
    "\n",
    "for updates in pages_updates:\n",
    "    if violates(updates):\n",
    "        ordered = order(updates)\n",
    "        total += ordered[len(ordered) // 2]\n",
    "\n",
    "print(\"part 2: \", total)"
   ]
  }
 ],
 "metadata": {
  "kernelspec": {
   "display_name": "Python 3 (ipykernel)",
   "language": "python",
   "name": "python3"
  },
  "language_info": {
   "codemirror_mode": {
    "name": "ipython",
    "version": 3
   },
   "file_extension": ".py",
   "mimetype": "text/x-python",
   "name": "python",
   "nbconvert_exporter": "python",
   "pygments_lexer": "ipython3",
   "version": "3.13.0"
  }
 },
 "nbformat": 4,
 "nbformat_minor": 5
}
