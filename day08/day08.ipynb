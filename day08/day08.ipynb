{
 "cells": [
  {
   "cell_type": "code",
   "execution_count": 1,
   "id": "f52f03f3-766d-4712-b6ef-be1e8fea60cd",
   "metadata": {},
   "outputs": [],
   "source": [
    "from collections import defaultdict, namedtuple\n",
    "\n",
    "with open(\"input.txt\") as f:\n",
    "    lines = [list(l.strip()) for l in f.readlines()]\n",
    "\n",
    "Pos = namedtuple(\"pos\", [\"row\", \"col\"])\n",
    "char_positions = defaultdict(list)\n",
    "\n",
    "for row, line in enumerate(lines):\n",
    "    for col, char in enumerate(line):\n",
    "        if char != \".\":\n",
    "            char_positions[char].append(Pos(row, col))"
   ]
  },
  {
   "cell_type": "markdown",
   "id": "548745c5-8f1c-4172-a4ce-7a6828e71389",
   "metadata": {},
   "source": [
    "# part 1"
   ]
  },
  {
   "cell_type": "code",
   "execution_count": 2,
   "id": "ce8d81d7-713e-44db-9073-49988b86a950",
   "metadata": {},
   "outputs": [
    {
     "name": "stdout",
     "output_type": "stream",
     "text": [
      "part 1:  426\n"
     ]
    }
   ],
   "source": [
    "def is_in_bounds(pos):\n",
    "    return all((pos.row >= 0, pos.col >= 0, pos.row < len(lines), pos.col <len(lines[0])))\n",
    "\n",
    "node_locs = set()\n",
    "\n",
    "for char, positions in char_positions.items():\n",
    "    for this in positions:\n",
    "        for other in positions:\n",
    "            col_diff = other.col - this.col\n",
    "            row_diff = other.row - this.row\n",
    "\n",
    "            # check the other locations which are \"below\" this one\n",
    "            if row_diff <= 0:\n",
    "                continue\n",
    "\n",
    "            # check the antinode which would be above \"this\" char's position\n",
    "            node1 = Pos(this.row - row_diff, this.col - col_diff)\n",
    "            if is_in_bounds(node1):\n",
    "                node_locs.add(node1)\n",
    "\n",
    "            # check the antinode which would be below the \"other\" char's position\n",
    "            node2 = Pos(other.row + row_diff, other.col + col_diff)\n",
    "            if is_in_bounds(node2):\n",
    "                node_locs.add(node2)\n",
    "\n",
    "\n",
    "print(\"part 1: \", len(node_locs))"
   ]
  },
  {
   "cell_type": "markdown",
   "id": "392c7ed5-9f19-41c0-8e9d-651180567f27",
   "metadata": {},
   "source": [
    "# part 2"
   ]
  },
  {
   "cell_type": "code",
   "execution_count": 3,
   "id": "98e068e5-c88b-46c7-8b78-6b55dc51c191",
   "metadata": {},
   "outputs": [
    {
     "name": "stdout",
     "output_type": "stream",
     "text": [
      "part 2:  1359\n"
     ]
    }
   ],
   "source": [
    "node_locs = set()\n",
    "\n",
    "for char, positions in char_positions.items():\n",
    "    for this in positions:\n",
    "        for other in positions:\n",
    "            col_diff = other.col - this.col\n",
    "            row_diff = other.row - this.row\n",
    "\n",
    "            # check the other locations which are \"below\" this one\n",
    "            if row_diff <= 0:\n",
    "                continue\n",
    "\n",
    "            # antinode positions with at least 1 other antenna will always be node positions as well\n",
    "            node_locs.add(this)\n",
    "            node_locs.add(other)\n",
    "\n",
    "            node1 = Pos(this.row - row_diff, this.col - col_diff)\n",
    "            while is_in_bounds(node1): # keep checking harmonic positions while in bounds\n",
    "                node_locs.add(node1)\n",
    "                node1 = Pos(node1.row - row_diff, node1.col - col_diff)\n",
    "\n",
    "            node2 = Pos(other.row + row_diff, other.col + col_diff)\n",
    "            while is_in_bounds(node2): # keep checking harmonic positions while in bounds\n",
    "                node_locs.add(node2)\n",
    "                node2 = Pos(node2.row + row_diff, node2.col + col_diff)\n",
    "\n",
    "print(\"part 2: \", len(node_locs))"
   ]
  }
 ],
 "metadata": {
  "kernelspec": {
   "display_name": "Python 3 (ipykernel)",
   "language": "python",
   "name": "python3"
  },
  "language_info": {
   "codemirror_mode": {
    "name": "ipython",
    "version": 3
   },
   "file_extension": ".py",
   "mimetype": "text/x-python",
   "name": "python",
   "nbconvert_exporter": "python",
   "pygments_lexer": "ipython3",
   "version": "3.13.0"
  }
 },
 "nbformat": 4,
 "nbformat_minor": 5
}
