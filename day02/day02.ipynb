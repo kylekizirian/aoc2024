{
 "cells": [
  {
   "cell_type": "code",
   "execution_count": 1,
   "id": "45781779-09f0-4418-9e0e-cae8ea04e4b2",
   "metadata": {},
   "outputs": [],
   "source": [
    "with open(\"input.txt\") as f:\n",
    "    lines = [list(map(int, l.strip().split())) for l in f.readlines()]"
   ]
  },
  {
   "cell_type": "markdown",
   "id": "1b331c25-fdbd-4fb3-9455-626b829411d1",
   "metadata": {},
   "source": [
    "# part 1"
   ]
  },
  {
   "cell_type": "code",
   "execution_count": 2,
   "id": "8f06b282-81a9-45b2-8437-351fdc4adf96",
   "metadata": {},
   "outputs": [
    {
     "name": "stdout",
     "output_type": "stream",
     "text": [
      "part1 : 257\n"
     ]
    }
   ],
   "source": [
    "def all_increasing(levels):\n",
    "    return all(a > b for a, b in zip(levels, levels[1:]))\n",
    "\n",
    "def all_decreasing(levels):\n",
    "    return all(a < b for a, b in zip(levels, levels[1:]))\n",
    "\n",
    "def max_diff(levels):\n",
    "    return max(abs(a-b) for a, b in zip(levels, levels[1:]))\n",
    "\n",
    "def is_safe(levels):\n",
    "    return (all_increasing(levels) or all_decreasing(levels)) and max_diff(levels) <= 3\n",
    "\n",
    "num_safe = sum(is_safe(levels) for levels in lines)\n",
    "print(\"part1 :\", num_safe)"
   ]
  }
 ],
 "metadata": {
  "kernelspec": {
   "display_name": "Python 3 (ipykernel)",
   "language": "python",
   "name": "python3"
  },
  "language_info": {
   "codemirror_mode": {
    "name": "ipython",
    "version": 3
   },
   "file_extension": ".py",
   "mimetype": "text/x-python",
   "name": "python",
   "nbconvert_exporter": "python",
   "pygments_lexer": "ipython3",
   "version": "3.13.0"
  }
 },
 "nbformat": 4,
 "nbformat_minor": 5
}
