{
 "cells": [
  {
   "cell_type": "code",
   "execution_count": 1,
   "id": "ffb9b9a5-d87d-499d-a5f9-6d154caa5fb2",
   "metadata": {},
   "outputs": [],
   "source": [
    "with open(\"input.txt\") as f:\n",
    "    topo_map = [\n",
    "        list(map(int, l.strip())) for l in f.readlines()\n",
    "    ]"
   ]
  },
  {
   "cell_type": "markdown",
   "id": "58ae6d1c-3981-4886-8703-d1d9ec5d9045",
   "metadata": {},
   "source": [
    "# part 1"
   ]
  },
  {
   "cell_type": "code",
   "execution_count": 2,
   "id": "dbb9078e-2000-41df-8865-c65dc9912404",
   "metadata": {},
   "outputs": [
    {
     "name": "stdout",
     "output_type": "stream",
     "text": [
      "part 1: 688\n"
     ]
    }
   ],
   "source": [
    "computed = [[None] * len(row) for row in topo_map]\n",
    "\n",
    "def dfs(rn, cn):\n",
    "    if topo_map[rn][cn] == 9:\n",
    "        computed[rn][cn] = {(rn, cn)}\n",
    "\n",
    "    if computed[rn][cn] != None:\n",
    "        return computed[rn][cn]\n",
    "\n",
    "    computed[rn][cn] = set()\n",
    "    if rn > 0 and topo_map[rn-1][cn] == topo_map[rn][cn]+1:\n",
    "        computed[rn][cn] |= dfs(rn-1, cn)\n",
    "    if rn < len(topo_map)-1 and topo_map[rn+1][cn] == topo_map[rn][cn]+1:\n",
    "        computed[rn][cn] |= dfs(rn+1, cn)\n",
    "    if cn > 0  and topo_map[rn][cn-1] == topo_map[rn][cn]+1:\n",
    "        computed[rn][cn] |= dfs(rn, cn-1)\n",
    "    if cn < len(topo_map)-1  and topo_map[rn][cn+1] == topo_map[rn][cn]+1:\n",
    "        computed[rn][cn] |= dfs(rn, cn+1)\n",
    "\n",
    "    return computed[rn][cn]\n",
    "\n",
    "\n",
    "score = sum(\n",
    "    len(dfs(rn, cn))\n",
    "    for rn, row in enumerate(topo_map)\n",
    "    for cn, height in enumerate(row)\n",
    "    if height == 0\n",
    ")\n",
    "print(\"part 1:\", score)"
   ]
  },
  {
   "cell_type": "markdown",
   "id": "21bad89c-db6d-4205-b179-2b149d5d4428",
   "metadata": {},
   "source": [
    "# part 2"
   ]
  },
  {
   "cell_type": "code",
   "execution_count": 3,
   "id": "e01c9fba-92ff-4956-a9c1-be3e321ffa3f",
   "metadata": {},
   "outputs": [
    {
     "name": "stdout",
     "output_type": "stream",
     "text": [
      "part 2: 1459\n"
     ]
    }
   ],
   "source": [
    "computed = [[None] * len(row) for row in topo_map]\n",
    "\n",
    "def dfs(rn, cn):\n",
    "    if topo_map[rn][cn] == 9:\n",
    "        computed[rn][cn] = 1\n",
    "\n",
    "    if computed[rn][cn] != None:\n",
    "        return computed[rn][cn]\n",
    "\n",
    "    computed[rn][cn] = 0\n",
    "    if rn > 0 and topo_map[rn-1][cn] == topo_map[rn][cn]+1:\n",
    "        computed[rn][cn] += dfs(rn-1, cn)\n",
    "    if rn < len(topo_map)-1 and topo_map[rn+1][cn] == topo_map[rn][cn]+1:\n",
    "        computed[rn][cn] += dfs(rn+1, cn)\n",
    "    if cn > 0  and topo_map[rn][cn-1] == topo_map[rn][cn]+1:\n",
    "        computed[rn][cn] += dfs(rn, cn-1)\n",
    "    if cn < len(topo_map)-1  and topo_map[rn][cn+1] == topo_map[rn][cn]+1:\n",
    "        computed[rn][cn] += dfs(rn, cn+1)\n",
    "    \n",
    "    return computed[rn][cn]\n",
    "\n",
    "\n",
    "score = sum(\n",
    "    dfs(rn, cn)\n",
    "    for rn, row in enumerate(topo_map)\n",
    "    for cn, height in enumerate(row)\n",
    "    if height == 0\n",
    ")\n",
    "print(\"part 2:\", score)"
   ]
  }
 ],
 "metadata": {
  "kernelspec": {
   "display_name": "Python 3 (ipykernel)",
   "language": "python",
   "name": "python3"
  },
  "language_info": {
   "codemirror_mode": {
    "name": "ipython",
    "version": 3
   },
   "file_extension": ".py",
   "mimetype": "text/x-python",
   "name": "python",
   "nbconvert_exporter": "python",
   "pygments_lexer": "ipython3",
   "version": "3.13.1"
  }
 },
 "nbformat": 4,
 "nbformat_minor": 5
}
