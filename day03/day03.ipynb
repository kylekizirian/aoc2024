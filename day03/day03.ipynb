{
 "cells": [
  {
   "cell_type": "code",
   "execution_count": 1,
   "id": "62ec78c6-dbe9-45a6-a816-6c083d262f4b",
   "metadata": {},
   "outputs": [],
   "source": [
    "from functools import reduce\n",
    "import operator\n",
    "import re\n",
    "\n",
    "with open(\"input.txt\") as f:\n",
    "    l = f.read().strip()"
   ]
  },
  {
   "cell_type": "markdown",
   "id": "a83fd3ee-178f-40d2-b03e-f1c71136a59a",
   "metadata": {},
   "source": [
    "# part 1"
   ]
  },
  {
   "cell_type": "code",
   "execution_count": 2,
   "id": "92d84f51-e008-4003-acda-50c0ba7b0641",
   "metadata": {},
   "outputs": [
    {
     "name": "stdout",
     "output_type": "stream",
     "text": [
      "part1:  178538786\n"
     ]
    }
   ],
   "source": [
    "total = sum(\n",
    "    reduce(operator.mul, map(int, re.findall(r\"\\d+\", expr))) \n",
    "    for expr in re.findall(r\"mul\\(\\d+,\\d+\\)\", l)\n",
    ")\n",
    "\n",
    "print(\"part1: \", total)"
   ]
  },
  {
   "cell_type": "markdown",
   "id": "daff1163-9c0f-4171-857e-e7ef84b77981",
   "metadata": {},
   "source": [
    "# part 2"
   ]
  },
  {
   "cell_type": "code",
   "execution_count": 3,
   "id": "db83ff13-d952-40ed-8793-6c709b210cb4",
   "metadata": {},
   "outputs": [
    {
     "name": "stdout",
     "output_type": "stream",
     "text": [
      "part2:  102467299\n"
     ]
    }
   ],
   "source": [
    "total = 0\n",
    "do = True\n",
    "\n",
    "for expr in re.findall(r\"(mul\\(\\d+,\\d+\\)|don't\\(\\)|do\\(\\))\", l):\n",
    "    if do and expr.startswith(\"mul\"):\n",
    "        total += reduce(operator.mul, map(int, re.findall(r\"\\d+\", expr)))\n",
    "    if expr.startswith(\"do()\"):\n",
    "        do = True\n",
    "    if expr.startswith(\"don't()\"):\n",
    "        do = False\n",
    "\n",
    "print(\"part2: \", total)"
   ]
  }
 ],
 "metadata": {
  "kernelspec": {
   "display_name": "Python 3 (ipykernel)",
   "language": "python",
   "name": "python3"
  },
  "language_info": {
   "codemirror_mode": {
    "name": "ipython",
    "version": 3
   },
   "file_extension": ".py",
   "mimetype": "text/x-python",
   "name": "python",
   "nbconvert_exporter": "python",
   "pygments_lexer": "ipython3",
   "version": "3.13.0"
  }
 },
 "nbformat": 4,
 "nbformat_minor": 5
}
