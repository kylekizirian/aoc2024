{
 "cells": [
  {
   "cell_type": "code",
   "execution_count": 1,
   "id": "c0a31f78-0573-4842-81d9-12573212e7a0",
   "metadata": {},
   "outputs": [],
   "source": [
    "with open(\"input.txt\") as f:\n",
    "    lines = [\n",
    "        l.strip() for l in f.readlines()\n",
    "    ]"
   ]
  },
  {
   "cell_type": "markdown",
   "id": "e22665e6-0325-4f3a-95b8-1518ec00fe27",
   "metadata": {},
   "source": [
    "# part 1"
   ]
  },
  {
   "cell_type": "code",
   "execution_count": 2,
   "id": "13cca07e-0fc0-4871-87be-b543642ed6f2",
   "metadata": {},
   "outputs": [
    {
     "name": "stdout",
     "output_type": "stream",
     "text": [
      "part 1:  2664460013123\n"
     ]
    }
   ],
   "source": [
    "def evaluate(goal, current, remain):\n",
    "    if current > goal:\n",
    "        return False\n",
    "\n",
    "    if len(remain) == 0:\n",
    "        return goal == current\n",
    "\n",
    "    # try + and recurse\n",
    "    if evaluate(goal, current + remain[0], remain[1:]):\n",
    "        return True\n",
    "\n",
    "    # else, try * and recurse\n",
    "    return evaluate(goal, current * remain[0], remain[1:])      \n",
    "\n",
    "total = 0\n",
    "\n",
    "for line in lines:\n",
    "    goal, nums = line.split(\":\")\n",
    "    goal = int(goal)\n",
    "    nums = list(map(int, nums.strip().split(\" \")))\n",
    "    if evaluate(goal, nums[0], nums[1:]):\n",
    "        total += goal\n",
    "\n",
    "print(\"part 1: \", total)"
   ]
  }
 ],
 "metadata": {
  "kernelspec": {
   "display_name": "Python 3 (ipykernel)",
   "language": "python",
   "name": "python3"
  },
  "language_info": {
   "codemirror_mode": {
    "name": "ipython",
    "version": 3
   },
   "file_extension": ".py",
   "mimetype": "text/x-python",
   "name": "python",
   "nbconvert_exporter": "python",
   "pygments_lexer": "ipython3",
   "version": "3.13.0"
  }
 },
 "nbformat": 4,
 "nbformat_minor": 5
}
