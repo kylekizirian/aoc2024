{
 "cells": [
  {
   "cell_type": "code",
   "execution_count": 1,
   "id": "c0a31f78-0573-4842-81d9-12573212e7a0",
   "metadata": {},
   "outputs": [],
   "source": [
    "from collections import namedtuple\n",
    "\n",
    "line = namedtuple(\"line\", [\"goal\", \"nums\"])\n",
    "lines = []\n",
    "\n",
    "with open(\"input.txt\") as f:\n",
    "    for l in f.readlines():\n",
    "        goal, nums = l.split(\":\")\n",
    "        lines.append(line(int(goal), list(map(int, nums.strip().split(\" \")))))"
   ]
  },
  {
   "cell_type": "markdown",
   "id": "e22665e6-0325-4f3a-95b8-1518ec00fe27",
   "metadata": {},
   "source": [
    "# part 1"
   ]
  },
  {
   "cell_type": "code",
   "execution_count": 2,
   "id": "13cca07e-0fc0-4871-87be-b543642ed6f2",
   "metadata": {},
   "outputs": [
    {
     "name": "stdout",
     "output_type": "stream",
     "text": [
      "part 1:  2664460013123\n"
     ]
    }
   ],
   "source": [
    "from operator import add, mul\n",
    "\n",
    "def evaluate(goal, operators, current, remain):\n",
    "    \n",
    "    def inner(current, remain):    \n",
    "        if current > goal:\n",
    "            return False\n",
    "    \n",
    "        if len(remain) == 0:\n",
    "            return goal == current\n",
    "    \n",
    "        for operator in operators:\n",
    "            if inner(operator(current, remain[0]), remain[1:]):\n",
    "                return True\n",
    "    \n",
    "        return False    \n",
    "\n",
    "    return inner(current, remain)\n",
    "\n",
    "total = 0\n",
    "\n",
    "for l in lines:\n",
    "    if evaluate(l.goal, [add, mul], l.nums[0], l.nums[1:]):\n",
    "        total += l.goal\n",
    "\n",
    "print(\"part 1: \", total)"
   ]
  },
  {
   "cell_type": "markdown",
   "id": "23db9a75-0930-4d36-8711-f0a9c9ce05bf",
   "metadata": {},
   "source": [
    "# part 2"
   ]
  },
  {
   "cell_type": "code",
   "execution_count": 3,
   "id": "ad648cb1-bbe9-4691-a2ea-2262cc37a33c",
   "metadata": {},
   "outputs": [
    {
     "name": "stdout",
     "output_type": "stream",
     "text": [
      "part 2:  426214131924213\n"
     ]
    }
   ],
   "source": [
    "total = 0\n",
    "\n",
    "for l in lines:\n",
    "    operators = [add, mul, lambda x, y: int(str(x) + str(y))]\n",
    "    if evaluate(l.goal, operators, l.nums[0], l.nums[1:]):\n",
    "        total += l.goal\n",
    "\n",
    "print(\"part 2: \", total)"
   ]
  }
 ],
 "metadata": {
  "kernelspec": {
   "display_name": "Python 3 (ipykernel)",
   "language": "python",
   "name": "python3"
  },
  "language_info": {
   "codemirror_mode": {
    "name": "ipython",
    "version": 3
   },
   "file_extension": ".py",
   "mimetype": "text/x-python",
   "name": "python",
   "nbconvert_exporter": "python",
   "pygments_lexer": "ipython3",
   "version": "3.13.0"
  }
 },
 "nbformat": 4,
 "nbformat_minor": 5
}
