{
 "cells": [
  {
   "cell_type": "code",
   "execution_count": 1,
   "id": "7e49488b-ab57-4657-9a2b-933f75b97780",
   "metadata": {},
   "outputs": [],
   "source": [
    "with open(\"input.txt\") as f:\n",
    "    lines = [l.strip() for l in f.readlines()]"
   ]
  },
  {
   "cell_type": "markdown",
   "id": "f0a36e92-34ba-4fd3-a450-18fa37963bc7",
   "metadata": {},
   "source": [
    "# part 1"
   ]
  },
  {
   "cell_type": "code",
   "execution_count": 2,
   "id": "7826fa3e-8c85-44ff-93b3-7490f2c42c72",
   "metadata": {},
   "outputs": [
    {
     "name": "stdout",
     "output_type": "stream",
     "text": [
      "part1:  2578\n"
     ]
    }
   ],
   "source": [
    "total = 0\n",
    "\n",
    "def check_xmas(lines, r, c, ro, co):\n",
    "    if r + ro[2] < 0 or r + ro[2] >= len(lines):\n",
    "        return False\n",
    "    if c + co[2] < 0 or c + co[2] >= len(lines[r]):\n",
    "        return False\n",
    "\n",
    "    return lines[r][c] + lines[r+ro[0]][c+co[0]] + lines[r+ro[1]][c+co[1]] + lines[r+ro[2]][c+co[2]] == \"XMAS\"\n",
    "\n",
    "for row in range(len(lines)):\n",
    "    for col in range(len(lines[row])):\n",
    "        total += check_xmas(lines, row, col, [0, 0, 0], [1, 2, 3])\n",
    "        total += check_xmas(lines, row, col, [0, 0, 0], [-1, -2, -3])\n",
    "        total += check_xmas(lines, row, col, [1, 2, 3], [0, 0, 0])\n",
    "        total += check_xmas(lines, row, col, [-1, -2, -3], [0, 0, 0])\n",
    "        total += check_xmas(lines, row, col, [1, 2, 3], [1, 2, 3])\n",
    "        total += check_xmas(lines, row, col, [-1, -2, -3], [1, 2, 3])\n",
    "        total += check_xmas(lines, row, col, [1, 2, 3], [-1, -2, -3])\n",
    "        total += check_xmas(lines, row, col, [-1, -2, -3], [-1, -2, -3])\n",
    "\n",
    "print(\"part1: \", total)"
   ]
  },
  {
   "cell_type": "markdown",
   "id": "0bd9a75b-c50a-4967-853f-7dba3de457ec",
   "metadata": {},
   "source": [
    "# part 2"
   ]
  },
  {
   "cell_type": "code",
   "execution_count": 3,
   "id": "a54142c9-09c9-4e6f-b6ab-4c5ce90edec9",
   "metadata": {},
   "outputs": [
    {
     "name": "stdout",
     "output_type": "stream",
     "text": [
      "part 2:  1972\n"
     ]
    }
   ],
   "source": [
    "total = 0\n",
    "\n",
    "def check_x_mas(lines, r, c):\n",
    "    if lines[r][c] != \"A\":\n",
    "        return False\n",
    "\n",
    "    d1 = lines[r-1][c-1] + lines[r+1][c+1]\n",
    "    d2 = lines[r-1][c+1] + lines[r+1][c-1]\n",
    "    return \"\".join(sorted(d1)) == \"MS\" and \"\".join(sorted(d2)) == \"MS\"\n",
    "\n",
    "for row in range(1, len(lines)-1):\n",
    "    for col in range(1, len(lines[row])-1):\n",
    "        total += check_x_mas(lines, row, col)\n",
    "\n",
    "print(\"part 2: \", total)"
   ]
  }
 ],
 "metadata": {
  "kernelspec": {
   "display_name": "Python 3 (ipykernel)",
   "language": "python",
   "name": "python3"
  },
  "language_info": {
   "codemirror_mode": {
    "name": "ipython",
    "version": 3
   },
   "file_extension": ".py",
   "mimetype": "text/x-python",
   "name": "python",
   "nbconvert_exporter": "python",
   "pygments_lexer": "ipython3",
   "version": "3.13.0"
  }
 },
 "nbformat": 4,
 "nbformat_minor": 5
}
