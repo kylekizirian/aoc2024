{
 "cells": [
  {
   "cell_type": "code",
   "execution_count": 1,
   "id": "b51109bd-a1b0-4d8e-b5da-1c28364c0619",
   "metadata": {},
   "outputs": [],
   "source": [
    "with open(\"input.txt\") as f:\n",
    "    stones = list(map(int, f.read().strip().split()))"
   ]
  },
  {
   "cell_type": "markdown",
   "id": "9d319be5-3726-4b38-a5bb-db77ff2424e1",
   "metadata": {},
   "source": [
    "# part 1"
   ]
  },
  {
   "cell_type": "code",
   "execution_count": 2,
   "id": "1f5ef476-d36d-413f-9d6d-7eea16ae4bfd",
   "metadata": {},
   "outputs": [
    {
     "name": "stdout",
     "output_type": "stream",
     "text": [
      "part 1: 193269\n"
     ]
    }
   ],
   "source": [
    "from collections import defaultdict\n",
    "\n",
    "def blink(current):\n",
    "    updated = defaultdict(int)\n",
    "    for val, count in current.items():\n",
    "        if val == 0: # 0 becomes 1\n",
    "            updated[1] += count\n",
    "        elif len(str(val)) % 2 == 0:\n",
    "            left, right = str(val)[:len(str(val)) // 2], str(val)[len(str(val)) // 2:]\n",
    "            updated[int(left)] += count\n",
    "            updated[int(right)] += count\n",
    "        else:\n",
    "            updated[val * 2024] += count\n",
    "\n",
    "    return updated\n",
    "\n",
    "def simulate_n_times(n):\n",
    "    stone_count = defaultdict(int)\n",
    "    for stone in stones:\n",
    "        stone_count[stone] += 1\n",
    "\n",
    "    for _ in range(n):\n",
    "        stone_count = blink(stone_count)\n",
    "\n",
    "    return sum(val for val in stone_count.values())\n",
    "\n",
    "print(\"part 1:\", simulate_n_times(25))"
   ]
  },
  {
   "cell_type": "markdown",
   "id": "3ff1d32e-f4dc-45d9-8b6a-4937a9986f5a",
   "metadata": {},
   "source": [
    "# part 2"
   ]
  },
  {
   "cell_type": "code",
   "execution_count": 3,
   "id": "39f56f0f-39c0-42bb-9206-be4b300d16ac",
   "metadata": {},
   "outputs": [
    {
     "name": "stdout",
     "output_type": "stream",
     "text": [
      "part 2: 228449040027793\n"
     ]
    }
   ],
   "source": [
    "print(\"part 2:\", simulate_n_times(75))"
   ]
  }
 ],
 "metadata": {
  "kernelspec": {
   "display_name": "Python 3 (ipykernel)",
   "language": "python",
   "name": "python3"
  },
  "language_info": {
   "codemirror_mode": {
    "name": "ipython",
    "version": 3
   },
   "file_extension": ".py",
   "mimetype": "text/x-python",
   "name": "python",
   "nbconvert_exporter": "python",
   "pygments_lexer": "ipython3",
   "version": "3.13.1"
  }
 },
 "nbformat": 4,
 "nbformat_minor": 5
}
