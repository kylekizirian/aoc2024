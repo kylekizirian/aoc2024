{
 "cells": [
  {
   "cell_type": "code",
   "execution_count": 1,
   "id": "2f9ea03c-5961-4a1e-be80-a329397b3f2d",
   "metadata": {},
   "outputs": [],
   "source": [
    "with open(\"input.txt\") as f:\n",
    "    disk_map = f.read().strip()"
   ]
  },
  {
   "cell_type": "markdown",
   "id": "71b2bc20-dc3d-46d4-b465-fe2ef94e72ff",
   "metadata": {},
   "source": [
    "# part 1"
   ]
  },
  {
   "cell_type": "code",
   "execution_count": 2,
   "id": "30ac1c98-b8fb-4db4-ab18-71f4f1cc68ee",
   "metadata": {},
   "outputs": [
    {
     "name": "stdout",
     "output_type": "stream",
     "text": [
      "part 1:  6340197768906\n"
     ]
    }
   ],
   "source": [
    "compacted = []\n",
    "\n",
    "for i, d in enumerate(disk_map):\n",
    "    if i % 2:\n",
    "        compacted += [None] * int(d)\n",
    "    else:\n",
    "        compacted += [i // 2] * int(d)\n",
    "\n",
    "while None in compacted:\n",
    "    i = compacted.index(None)\n",
    "    compacted[i] = compacted.pop()\n",
    "\n",
    "total = sum(i * d for i, d in enumerate(compacted))\n",
    "print(\"part 1: \", total)"
   ]
  }
 ],
 "metadata": {
  "kernelspec": {
   "display_name": "Python 3 (ipykernel)",
   "language": "python",
   "name": "python3"
  },
  "language_info": {
   "codemirror_mode": {
    "name": "ipython",
    "version": 3
   },
   "file_extension": ".py",
   "mimetype": "text/x-python",
   "name": "python",
   "nbconvert_exporter": "python",
   "pygments_lexer": "ipython3",
   "version": "3.13.1"
  }
 },
 "nbformat": 4,
 "nbformat_minor": 5
}
