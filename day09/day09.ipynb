{
 "cells": [
  {
   "cell_type": "code",
   "execution_count": 1,
   "id": "2f9ea03c-5961-4a1e-be80-a329397b3f2d",
   "metadata": {},
   "outputs": [],
   "source": [
    "with open(\"input.txt\") as f:\n",
    "    disk_map = f.read().strip()"
   ]
  },
  {
   "cell_type": "markdown",
   "id": "71b2bc20-dc3d-46d4-b465-fe2ef94e72ff",
   "metadata": {},
   "source": [
    "# part 1"
   ]
  },
  {
   "cell_type": "code",
   "execution_count": 2,
   "id": "30ac1c98-b8fb-4db4-ab18-71f4f1cc68ee",
   "metadata": {},
   "outputs": [
    {
     "name": "stdout",
     "output_type": "stream",
     "text": [
      "part 1:  6340197768906\n"
     ]
    }
   ],
   "source": [
    "compacted = []\n",
    "\n",
    "for i, d in enumerate(disk_map):\n",
    "    if i % 2:\n",
    "        compacted += [None] * int(d)\n",
    "    else:\n",
    "        compacted += [i // 2] * int(d)\n",
    "\n",
    "while None in compacted:\n",
    "    i = compacted.index(None)\n",
    "    compacted[i] = compacted.pop()\n",
    "\n",
    "total = sum(i * d for i, d in enumerate(compacted))\n",
    "print(\"part 1: \", total)"
   ]
  },
  {
   "cell_type": "markdown",
   "id": "f0abebd1-ce14-4904-a18e-71dd5d4e866f",
   "metadata": {},
   "source": [
    "# part 2"
   ]
  },
  {
   "cell_type": "code",
   "execution_count": 3,
   "id": "9f2bf125-28df-4a07-ab8d-afc966fdf99f",
   "metadata": {},
   "outputs": [
    {
     "name": "stdout",
     "output_type": "stream",
     "text": [
      "part 2:  6363913128533\n"
     ]
    }
   ],
   "source": [
    "free = [] # list of (start, len) tuples\n",
    "files = {} # id: (loc, len)\n",
    "\n",
    "pos = 0\n",
    "for i, d in enumerate(disk_map):\n",
    "    if i % 2:\n",
    "        free.append((pos, int(d)))\n",
    "    else:\n",
    "        files[i // 2] = (pos, int(d))\n",
    "\n",
    "    pos += int(d)\n",
    "\n",
    "for i in range(max(files.keys()), -1, -1):\n",
    "    # move to the left most free space\n",
    "    file_pos, file_length = files[i]\n",
    "    for j, space in enumerate(free):\n",
    "        space_pos, space_length = space\n",
    "        if space_pos >= file_pos:\n",
    "            break\n",
    "\n",
    "        if file_length <= space_length:\n",
    "            files[i] = (space_pos, file_length)\n",
    "            free[j] = (space_pos + file_length, space_length - file_length)\n",
    "            break\n",
    "\n",
    "total = 0\n",
    "for file, locs in files.items():\n",
    "    start, length = locs\n",
    "    for i in range(start, start+length):\n",
    "        total += file * i\n",
    "\n",
    "print(\"part 2: \", total)"
   ]
  }
 ],
 "metadata": {
  "kernelspec": {
   "display_name": "Python 3 (ipykernel)",
   "language": "python",
   "name": "python3"
  },
  "language_info": {
   "codemirror_mode": {
    "name": "ipython",
    "version": 3
   },
   "file_extension": ".py",
   "mimetype": "text/x-python",
   "name": "python",
   "nbconvert_exporter": "python",
   "pygments_lexer": "ipython3",
   "version": "3.13.1"
  }
 },
 "nbformat": 4,
 "nbformat_minor": 5
}
